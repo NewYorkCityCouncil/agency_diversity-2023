{
 "cells": [
  {
   "cell_type": "code",
   "execution_count": 3,
   "metadata": {},
   "outputs": [],
   "source": [
    "# installing packages\n",
    "import numpy as np\n",
    "import pandas as pd\n",
    "import plotly\n",
    "import plotly.express as px\n",
    "import plotly.graph_objects as go"
   ]
  },
  {
   "cell_type": "code",
   "execution_count": 5,
   "metadata": {},
   "outputs": [],
   "source": [
    "# reading in 2018, 2019, 2020 data from DCAS worker profile\n",
    "dat = pd.read_csv('../data/Agency_Diversity_18.csv')\n",
    "dat_19 = pd.read_csv('../data/Agency_Diversity_19.csv')\n",
    "dat_20 = pd.read_csv('../data/Agency_Diversity_20.csv')\n",
    "\n",
    "#from ACS 2018 1-year\n",
    "dat_city=[52,48,32,22,29,14,3]\n",
    "# using ACS 2019 for 2019 & 2020 \n",
    "# 2020 not fully released due to pandemic\n",
    "\n",
    "# --- ** TO DO: add ACS data for 2019, 2020 ** ---\n",
    "# dat_city_19=[]\n",
    "# dat_city_20=[]\n",
    "\n",
    "columns=dat.columns"
   ]
  },
  {
   "cell_type": "code",
   "execution_count": 6,
   "metadata": {},
   "outputs": [
    {
     "name": "stdout",
     "output_type": "stream",
     "text": [
      "Index(['Agency', '# Employees', '%Female', '%Male', '%White', '%Black',\n",
      "       '%Hispanic', '%Asian', '%SOR', 'check gender', 'check eth/race'],\n",
      "      dtype='object')\n"
     ]
    }
   ],
   "source": [
    "print(columns)"
   ]
  },
  {
   "cell_type": "code",
   "execution_count": 7,
   "metadata": {},
   "outputs": [],
   "source": [
    "def calculate(dat):\n",
    "    dat['d1']=np.abs(dat[columns[2]]-dat_city[0])+np.abs(dat[columns[3]]-dat_city[1])+np.abs(dat[columns[4]]-dat_city[2])+np.abs(dat[columns[5]]-dat_city[3])+np.abs(dat[columns[6]]-dat_city[4])+np.abs(dat[columns[7]]-dat_city[5])+np.abs(dat[columns[8]]-dat_city[6])\n",
    "    dat['d2']=np.abs(dat[columns[2]]-dat_city[0])/dat_city[0]+np.abs(dat[columns[3]]-dat_city[1])/dat_city[1]+np.abs(dat[columns[4]]-dat_city[2])/dat_city[2]+np.abs(dat[columns[5]]-dat_city[3])/dat_city[3]+np.abs(dat[columns[6]]-dat_city[4])/dat_city[4]+np.abs(dat[columns[7]]-dat_city[5])/dat_city[5]+np.abs(dat[columns[8]]-dat_city[6])/dat_city[6]\n",
    "    dat['d4']=np.abs(dat[columns[2]]-dat_city[0])/(dat[columns[2]]+dat_city[0])/2+np.abs(dat[columns[3]]-dat_city[1])/(dat[columns[3]]+dat_city[1])/2+np.abs(dat[columns[4]]-dat_city[2])/(dat[columns[4]]+dat_city[2])/2+np.abs(dat[columns[5]]-dat_city[3])/(dat[columns[5]]+dat_city[3])/2+np.abs(dat[columns[6]]-dat_city[4])/(dat[columns[6]]+dat_city[4])/2+np.abs(dat[columns[7]]-dat_city[5])/(dat[columns[7]]+dat_city[5])/2+np.abs(dat[columns[8]]-dat_city[6])/(dat[columns[8]]+dat_city[6])/2\n",
    "    dat['d3']=np.sqrt((dat[columns[2]]-dat_city[0])**2+(dat[columns[3]]-dat_city[1])**2+(dat[columns[4]]-dat_city[2])**2+(dat[columns[5]]-dat_city[3])**2+(dat[columns[6]]-dat_city[4])**2+(dat[columns[7]]-dat_city[5])**2+(dat[columns[8]]-dat_city[6])**2)\n",
    "    dat['d5']=np.abs(dat[columns[2]]-dat_city[0])/(dat[columns[2]]+dat_city[0])/2+np.abs(dat[columns[5]]-dat_city[3])/(dat[columns[5]]+dat_city[3])/2+np.abs(dat[columns[6]]-dat_city[4])/(dat[columns[6]]+dat_city[4])/2+np.abs(dat[columns[7]]-dat_city[5])/(dat[columns[7]]+dat_city[5])/2+np.abs(dat[columns[8]]-dat_city[6])/(dat[columns[8]]+dat_city[6])/2\n",
    "    dat['d6']=np.sqrt((dat[columns[2]]-dat_city[0])**2+(dat[columns[5]]-dat_city[3])**2+(dat[columns[6]]-dat_city[4])**2+(dat[columns[7]]-dat_city[5])**2+(dat[columns[8]]-dat_city[6])**2)\n",
    "    dat['d3_norm']=(dat['d3']-dat['d3'].min())/(dat['d3'].max()-dat['d3'].min())*100.0\n",
    "    dat['d4_norm']=(dat['d4']-dat['d4'].min())/(dat['d4'].max()-dat['d4'].min())*100.0\n",
    "    dat['d6_norm']=(dat['d6']-dat['d6'].min())/(dat['d6'].max()-dat['d6'].min())*100.0\n",
    "    dat['d3_gender']=np.sqrt((dat[columns[2]]-dat_city[0])**2+(dat[columns[3]]-dat_city[1])**2)\n",
    "    dat['d3_race']=np.sqrt((dat[columns[4]]-dat_city[2])**2+(dat[columns[5]]-dat_city[3])**2+(dat[columns[6]]-dat_city[4])**2+(dat[columns[7]]-dat_city[5])**2+(dat[columns[8]]-dat_city[6])**2)\n",
    "    dat['d4_gender']=np.abs(dat[columns[2]]-dat_city[0])/(dat[columns[2]]+dat_city[0])/2+np.abs(dat[columns[3]]-dat_city[1])/(dat[columns[3]]+dat_city[1])/2\n",
    "    dat['d4_race']=np.abs(dat[columns[4]]-dat_city[2])/(dat[columns[4]]+dat_city[2])/2+np.abs(dat[columns[5]]-dat_city[3])/(dat[columns[5]]+dat_city[3])/2+np.abs(dat[columns[6]]-dat_city[4])/(dat[columns[6]]+dat_city[4])/2+np.abs(dat[columns[7]]-dat_city[5])/(dat[columns[7]]+dat_city[5])/2+np.abs(dat[columns[8]]-dat_city[6])/(dat[columns[8]]+dat_city[6])/2\n",
    "    dat['d3_gender_norm']=(dat['d3_gender']-dat['d3_gender'].min())/(dat['d3_gender'].max()-dat['d3_gender'].min())*100.0\n",
    "    dat['d3_race_norm']=(dat['d3_race']-dat['d3_race'].min())/(dat['d3_race'].max()-dat['d3_race'].min())*100.0 \n",
    "    return dat"
   ]
  },
  {
   "cell_type": "code",
   "execution_count": 8,
   "metadata": {},
   "outputs": [],
   "source": [
    "dat = calculate(dat)"
   ]
  },
  {
   "cell_type": "code",
   "execution_count": 10,
   "metadata": {},
   "outputs": [],
   "source": [
    "dat['d3_norm_high']=dat['d3_norm'] > 80\n",
    "dat['d3_gender_norm_high']=dat['d3_gender_norm'] > 80\n",
    "dat['d3_race_norm_high']=dat['d3_race_norm'] > 80\n",
    "dat['d3_gender_race_norm_high']=(dat['d3_gender_norm'] > 80) | (dat['d3_race_norm'] > 80)"
   ]
  },
  {
   "cell_type": "code",
   "execution_count": 11,
   "metadata": {},
   "outputs": [
    {
     "name": "stdout",
     "output_type": "stream",
     "text": [
      "       Agency  # Employees  %Female  %Male  %White  %Black  %Hispanic  %Asian  \\\n",
      "0        DCAS         2386       38     62      29      35         24      10   \n",
      "1       DOITT         1528       39     61      37      27         14      19   \n",
      "2   MAYORALTY         1230       58     42      44      20         16      16   \n",
      "3         BOE          765       48     52      31      30         15       4   \n",
      "4      NYCERS          453       61     39      31      36          9      22   \n",
      "..        ...          ...      ...    ...     ...     ...        ...     ...   \n",
      "67       FDNY        17526       11     89      66      13         17       4   \n",
      "68        DOC        12680       42     58      14      57         22       5   \n",
      "69        DOP         1053       69     31      14      64         16       3   \n",
      "70        DOI          376       54     46      42      25         15      13   \n",
      "71      NYCEM          194       48     52      57      14         12       9   \n",
      "\n",
      "    %SOR  check gender  ...    d3_race  d4_gender   d4_race  d3_gender_norm  \\\n",
      "0      3           100  ...  14.798649   0.141414  0.269128       32.558140   \n",
      "1      4           100  ...  17.349352   0.131062  0.408857       30.232558   \n",
      "2      5           100  ...  18.027756   0.060606  0.405535       13.953488   \n",
      "3     20           100  ...  25.495098   0.040000  0.891293        9.302326   \n",
      "4      2           100  ...  25.729361   0.091547  0.602895       20.930233   \n",
      "..   ...           ...  ...        ...        ...       ...             ...   \n",
      "67     1           100  ...  38.535698   0.475032  0.960253       95.348837   \n",
      "68     2           100  ...  40.987803   0.100361  0.822641       23.255814   \n",
      "69     2           100  ...  48.774994   0.177843  1.007812       39.534884   \n",
      "70     5           100  ...  17.606817   0.020072  0.402092        4.651163   \n",
      "71     8           100  ...  32.062439   0.040000  0.794846        9.302326   \n",
      "\n",
      "    d3_race_norm  Median_Salary  d3_norm_high  d3_gender_norm_high  \\\n",
      "0      16.773531          60552         False                False   \n",
      "1      22.360975          87731         False                False   \n",
      "2      23.847056          78000         False                False   \n",
      "3      40.204647          45461         False                False   \n",
      "4      40.717812          55011         False                False   \n",
      "..           ...            ...           ...                  ...   \n",
      "67     68.770746          85292          True                 True   \n",
      "68     74.142207          78090         False                False   \n",
      "69     91.200445          61210         False                False   \n",
      "70     22.924966          67906         False                False   \n",
      "71     54.590743          76000         False                False   \n",
      "\n",
      "    d3_race_norm_high  d3_gender_race_norm_high  \n",
      "0               False                     False  \n",
      "1               False                     False  \n",
      "2               False                     False  \n",
      "3               False                     False  \n",
      "4               False                     False  \n",
      "..                ...                       ...  \n",
      "67              False                      True  \n",
      "68              False                     False  \n",
      "69               True                      True  \n",
      "70              False                     False  \n",
      "71              False                     False  \n",
      "\n",
      "[72 rows x 31 columns]\n",
      "RangeIndex(start=0, stop=72, step=1)\n"
     ]
    }
   ],
   "source": [
    "# print(dat)\n",
    "dat = dat.assign(Median_Salary = [\"60552\", \"87731\", \"78000\", \"45461\", \"55011\", \"70543\", \"79484\", \"64378\", \"55590\", \"46000\", \"73000\", \"117420\", \"70154\", \"73903\", \"44319\", \"112516\", \"56872\", \"69901\", \"59482\", \"86392\", \"82264\", \"91792\", \"73939\", \"77000\", \"64475\", \"76191\", \"64139\", \"61349\", \"70868\", \"65850\", \"62246\", \"46698\", \"58987\", \"61800\", \"61800\", \"61824\", \"70514\", \"82278\", \"107022\", \"59963\", \"46689\", \"65073\", \"57590\", \"46737\", \"75000\", \"68000\", \"77318\", \"78877\", \"69632\", \"65568\", \"75691\", \"75000\", \"70959\", \"72000\", \"61800\", \"62698\", \"65000\", \"60276\", \"78446\", \"64460\", \"69593\", \"64796\", \"65625\", \"78000\", \"76275\", \"80829\", \"85292\", \"85292\", \"78090\", \"61210\", \"67906\", \"76000\"])\n",
    "print(dat)\n",
    "index = dat.index\n",
    "print(index)"
   ]
  },
  {
   "cell_type": "code",
   "execution_count": 11,
   "metadata": {},
   "outputs": [],
   "source": [
    "fig = px.scatter(dat, x=\"d3_gender_norm\", y=\"d3_race_norm\", hover_name='Agency', color='d3_gender_race_norm_high', size=dat[columns[4]], color_discrete_sequence=[\"#2F56A6\", \"#B63F26\"], hover_data = {\n",
    "                               'd3_gender_race_norm_high':False,\n",
    "                               'd3_gender_norm':':.1f',\n",
    "                               'd3_race_norm':':.1f',\n",
    "                               'Median_Salary':':$.0f',\n",
    "                               '# Employees':True,\n",
    "                               '%Female':True,\n",
    "                               '%Black':True,\n",
    "                               '%Hispanic':True,\n",
    "                               '%Asian':True,\n",
    "                               '%SOR':True},\n",
    "  labels={'d3_gender_norm':'Gender','d3_race_norm':'Race/Ethnicity',\n",
    "  'Median_Salary':'Median Salary',\n",
    "  'd3_gender_race_norm_high':''})\n",
    "fig.update_traces(textposition='top center')\n",
    "fig.add_hline(y=50,line_dash=\"dash\",line_color='grey')\n",
    "fig.add_vline(x=50,line_dash=\"dash\",line_color='grey')\n",
    "fig.add_annotation(xref=\"x domain\",yref=\"y domain\",x=0.005,y=-0.0,text=\"Closest\",showarrow=False)\n",
    "fig.add_annotation(xref=\"x domain\",yref=\"y domain\",x=0.98,y=-0.0,text=\"Farthest\",showarrow=False)\n",
    "fig.add_annotation(xref=\"x domain\",yref=\"y domain\",x=0.005,y=0.98,text=\"Farthest\",showarrow=False)\n",
    "fig.add_annotation(xref=\"x domain\",yref=\"y domain\",\n",
    "x=0.99,y=0.9,text=\"NYC Population: <br> Female = 52%<br>  Black = 22%<br>  Hispanic = 29%<br> Asian = 14%<br>  SOR = 3%\",showarrow=False)\n",
    "#fig.update_layout(showlegend=False)\n",
    "newnames = set()\n",
    "fig.for_each_trace(\n",
    "    lambda trace:\n",
    "        trace.update(showlegend=False)\n",
    "        if (dat[dat['d3_gender_race_norm_high'] == False].bool) else newnames.add(trace.name))\n",
    "# newnames = {'True':'Agencies Farthest Away <br><sup> (Score >= 80)</sup>'}\n",
    "# fig.for_each_trace(lambda t: t.update(name = newnames[t.name]))\n",
    "fig.update_layout({\"title\": \n",
    "        {\"text\": \" Agency Demographics Compared to NYC's Population<br> <sup>An agency with a lower score (0) is closer to, while a higher score (100) is farther away from NYC's Gender & Racial Breakdown</sup>\",\n",
    "        \"font\": {\"size\": 20}}},\n",
    "      legend=dict(yanchor=\"top\",xanchor=\"left\", x=0.942))\n",
    "      \n",
    "fig.write_html(\"../figures/updated_agency_diversity_distance.html\")"
   ]
  }
 ],
 "metadata": {
  "kernelspec": {
   "display_name": "Python 3",
   "language": "python",
   "name": "python3"
  },
  "language_info": {
   "codemirror_mode": {
    "name": "ipython",
    "version": 3
   },
   "file_extension": ".py",
   "mimetype": "text/x-python",
   "name": "python",
   "nbconvert_exporter": "python",
   "pygments_lexer": "ipython3",
   "version": "3.11.2"
  },
  "orig_nbformat": 4
 },
 "nbformat": 4,
 "nbformat_minor": 2
}
