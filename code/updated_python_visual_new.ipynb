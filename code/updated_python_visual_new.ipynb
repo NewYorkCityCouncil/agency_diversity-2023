{
 "cells": [
  {
   "cell_type": "code",
   "execution_count": 1,
   "metadata": {},
   "outputs": [],
   "source": [
    "# installing packages\n",
    "import numpy as np\n",
    "import pandas as pd\n",
    "import plotly\n",
    "import plotly.express as px\n",
    "import plotly.graph_objects as go"
   ]
  },
  {
   "cell_type": "code",
   "execution_count": 2,
   "metadata": {},
   "outputs": [],
   "source": [
    "# ----- reading in 2018, 2019, 2020 data from DCAS worker profile\n",
    "dat = pd.read_csv('../data/Agency_Diversity_18.csv')\n",
    "dat_19 = pd.read_csv('../data/Agency_Diversity_19.csv')\n",
    "dat_20 = pd.read_csv('../data/Agency_Diversity_20.csv')\n",
    "\n",
    "# ----- from ACS 2018 1-year\n",
    "# note for self: labor_force not filtered\n",
    "dat_city = [52,48,32,22,29,14,3] # f, m, white, black, hisp, asian, sor\n",
    "# # using ACS 2019 for BOTH 2019 & 2020 \n",
    "# # 2020 not fully released due to pandemic\n",
    "# dat_city_19 = [52,48,32,22,29,14,3]\n",
    "# dat_city_20 = [52,48,32,22,29,14,3]\n",
    "\n",
    "# --- ** TO DO: add ACS data for 2019, 2020 ** ---\n",
    "# dat_city_19=[]\n",
    "# dat_city_20=[]\n",
    "\n",
    "columns=dat.columns"
   ]
  },
  {
   "cell_type": "code",
   "execution_count": 48,
   "metadata": {},
   "outputs": [],
   "source": [
    "# print(columns)\n",
    "# print(dat_20.columns)"
   ]
  },
  {
   "cell_type": "code",
   "execution_count": 3,
   "metadata": {},
   "outputs": [],
   "source": [
    "# ----- calculations\n",
    "def calculate(dat):\n",
    "    dat['d1']=np.abs(dat[columns[2]]-dat_city[0])+np.abs(dat[columns[3]]-dat_city[1])+np.abs(dat[columns[4]]-dat_city[2])+np.abs(dat[columns[5]]-dat_city[3])+np.abs(dat[columns[6]]-dat_city[4])+np.abs(dat[columns[7]]-dat_city[5])+np.abs(dat[columns[8]]-dat_city[6])\n",
    "    dat['d2']=np.abs(dat[columns[2]]-dat_city[0])/dat_city[0]+np.abs(dat[columns[3]]-dat_city[1])/dat_city[1]+np.abs(dat[columns[4]]-dat_city[2])/dat_city[2]+np.abs(dat[columns[5]]-dat_city[3])/dat_city[3]+np.abs(dat[columns[6]]-dat_city[4])/dat_city[4]+np.abs(dat[columns[7]]-dat_city[5])/dat_city[5]+np.abs(dat[columns[8]]-dat_city[6])/dat_city[6]\n",
    "    dat['d4']=np.abs(dat[columns[2]]-dat_city[0])/(dat[columns[2]]+dat_city[0])/2+np.abs(dat[columns[3]]-dat_city[1])/(dat[columns[3]]+dat_city[1])/2+np.abs(dat[columns[4]]-dat_city[2])/(dat[columns[4]]+dat_city[2])/2+np.abs(dat[columns[5]]-dat_city[3])/(dat[columns[5]]+dat_city[3])/2+np.abs(dat[columns[6]]-dat_city[4])/(dat[columns[6]]+dat_city[4])/2+np.abs(dat[columns[7]]-dat_city[5])/(dat[columns[7]]+dat_city[5])/2+np.abs(dat[columns[8]]-dat_city[6])/(dat[columns[8]]+dat_city[6])/2\n",
    "    dat['d3']=np.sqrt((dat[columns[2]]-dat_city[0])**2+(dat[columns[3]]-dat_city[1])**2+(dat[columns[4]]-dat_city[2])**2+(dat[columns[5]]-dat_city[3])**2+(dat[columns[6]]-dat_city[4])**2+(dat[columns[7]]-dat_city[5])**2+(dat[columns[8]]-dat_city[6])**2)\n",
    "    dat['d5']=np.abs(dat[columns[2]]-dat_city[0])/(dat[columns[2]]+dat_city[0])/2+np.abs(dat[columns[5]]-dat_city[3])/(dat[columns[5]]+dat_city[3])/2+np.abs(dat[columns[6]]-dat_city[4])/(dat[columns[6]]+dat_city[4])/2+np.abs(dat[columns[7]]-dat_city[5])/(dat[columns[7]]+dat_city[5])/2+np.abs(dat[columns[8]]-dat_city[6])/(dat[columns[8]]+dat_city[6])/2\n",
    "    dat['d6']=np.sqrt((dat[columns[2]]-dat_city[0])**2+(dat[columns[5]]-dat_city[3])**2+(dat[columns[6]]-dat_city[4])**2+(dat[columns[7]]-dat_city[5])**2+(dat[columns[8]]-dat_city[6])**2)\n",
    "    dat['d3_norm']=(dat['d3']-dat['d3'].min())/(dat['d3'].max()-dat['d3'].min())*100.0\n",
    "    dat['d4_norm']=(dat['d4']-dat['d4'].min())/(dat['d4'].max()-dat['d4'].min())*100.0\n",
    "    dat['d6_norm']=(dat['d6']-dat['d6'].min())/(dat['d6'].max()-dat['d6'].min())*100.0\n",
    "    dat['d3_gender']=np.sqrt((dat[columns[2]]-dat_city[0])**2+(dat[columns[3]]-dat_city[1])**2)\n",
    "    dat['d3_race']=np.sqrt((dat[columns[4]]-dat_city[2])**2+(dat[columns[5]]-dat_city[3])**2+(dat[columns[6]]-dat_city[4])**2+(dat[columns[7]]-dat_city[5])**2+(dat[columns[8]]-dat_city[6])**2)\n",
    "    dat['d4_gender']=np.abs(dat[columns[2]]-dat_city[0])/(dat[columns[2]]+dat_city[0])/2+np.abs(dat[columns[3]]-dat_city[1])/(dat[columns[3]]+dat_city[1])/2\n",
    "    dat['d4_race']=np.abs(dat[columns[4]]-dat_city[2])/(dat[columns[4]]+dat_city[2])/2+np.abs(dat[columns[5]]-dat_city[3])/(dat[columns[5]]+dat_city[3])/2+np.abs(dat[columns[6]]-dat_city[4])/(dat[columns[6]]+dat_city[4])/2+np.abs(dat[columns[7]]-dat_city[5])/(dat[columns[7]]+dat_city[5])/2+np.abs(dat[columns[8]]-dat_city[6])/(dat[columns[8]]+dat_city[6])/2\n",
    "    dat['d3_gender_norm']=(dat['d3_gender']-dat['d3_gender'].min())/(dat['d3_gender'].max()-dat['d3_gender'].min())*100.0\n",
    "    dat['d3_race_norm']=(dat['d3_race']-dat['d3_race'].min())/(dat['d3_race'].max()-dat['d3_race'].min())*100.0 \n",
    "    return dat"
   ]
  },
  {
   "cell_type": "code",
   "execution_count": 4,
   "metadata": {},
   "outputs": [],
   "source": [
    "dat = calculate(dat)\n",
    "dat_19 = calculate(dat_19)\n",
    "dat_20 = calculate(dat_20)"
   ]
  },
  {
   "cell_type": "code",
   "execution_count": 5,
   "metadata": {},
   "outputs": [],
   "source": [
    "# ----- more calculations\n",
    "def calc_high(dat):\n",
    "    dat['d3_norm_high']=dat['d3_norm'] > 80\n",
    "    dat['d3_gender_norm_high']=dat['d3_gender_norm'] > 80\n",
    "    dat['d3_race_norm_high']=dat['d3_race_norm'] > 80\n",
    "    dat['d3_gender_race_norm_high']=(dat['d3_gender_norm'] > 80) | (dat['d3_race_norm'] > 80)\n",
    "    return dat"
   ]
  },
  {
   "cell_type": "code",
   "execution_count": 6,
   "metadata": {},
   "outputs": [],
   "source": [
    "dat = calc_high(dat)\n",
    "dat_19 = calc_high(dat_19)\n",
    "dat_20 = calc_high(dat_20)"
   ]
  },
  {
   "cell_type": "code",
   "execution_count": 47,
   "metadata": {},
   "outputs": [],
   "source": [
    "# print(dat)"
   ]
  },
  {
   "cell_type": "code",
   "execution_count": 54,
   "metadata": {},
   "outputs": [],
   "source": [
    "print(dat_20.Agency)"
   ]
  },
  {
   "cell_type": "code",
   "execution_count": 7,
   "metadata": {},
   "outputs": [],
   "source": [
    "# --- ** TO DO: add salary data for 2019, 2020 ** ---\n",
    "# print(dat)\n",
    "# MEDIAN SALARIES DONT MATCH ?????????\n",
    "dat = dat.assign(Median_Salary = [\"60552\", \"87731\", \"78000\", \"45461\", \"55011\", \"70543\", \"79484\", \"64378\", \"55590\", \"46000\", \"73000\", \"117420\", \"70154\", \"73903\", \"44319\", \"112516\", \"56872\", \"69901\", \"59482\", \"86392\", \"82264\", \"91792\", \"73939\", \"77000\", \"64475\", \"76191\", \"64139\", \"61349\", \"70868\", \"65850\", \"62246\", \"46698\", \"58987\", \"61800\", \"61800\", \"61824\", \"70514\", \"82278\", \"107022\", \"59963\", \"46689\", \"65073\", \"57590\", \"46737\", \"75000\", \"68000\", \"77318\", \"78877\", \"69632\", \"65568\", \"75691\", \"75000\", \"70959\", \"72000\", \"61800\", \"62698\", \"65000\", \"60276\", \"78446\", \"64460\", \"69593\", \"64796\", \"65625\", \"78000\", \"76275\", \"80829\", \"85292\", \"85292\", \"78090\", \"61210\", \"67906\", \"76000\"])\n",
    "# print(dat)\n",
    "dat_19 = dat_19.assign(Median_Salary = [\"61336\", \"91499\", \"83436\", \"38463\", \"57295\", \"72839\", \"79862\", \"64640\", \"55798\", \"49025\", \"71001\", \"123237\", \"73148\", \"74396\", \"44675\", \"117468\", \"59502\", \"71491\", \"60000\", \"96081\", \"91499\", \"93728\", \"84053\", \"64418\", \"66205\", \"77387\", \"64139\", \"64202\", \"70000\", \"55000\", \"67500\", \"56432\", \"60167\", \"47135\", \"63939\", \"63946\", \"66398\", \"69498\", \"114752\", \"60788\", \"50763\", \"62577\", \"57426\", \"51993\", \"72874\", \"70152\", \"77318\", \"80449\", \"67624\", \"67792\", \"81872\", \"76484\", \"73986\", \"72000\", \"69000\", \"67800\", \"72904\", \"93067\", \"82209\", \"69228\", \"72957\", \"65292\", \"68444\", \"78000\", \"79568\", \"79150\", \"79802\", \"85292\", \"85292\", \"56658\", \"72079\", \"81350\"])\n",
    "index = dat.index\n",
    "# print(index)"
   ]
  },
  {
   "cell_type": "code",
   "execution_count": 9,
   "metadata": {},
   "outputs": [],
   "source": [
    "# ----- drawing the html plot\n",
    "def draw_fig(dat):\n",
    "    fig = px.scatter(dat, x=\"d3_gender_norm\", y=\"d3_race_norm\", hover_name='Agency', color='d3_gender_race_norm_high', size=dat[columns[4]], color_discrete_sequence=[\"#2F56A6\", \"#B63F26\"], hover_data={\n",
    "        'd3_gender_race_norm_high': False,\n",
    "        'd3_gender_norm': ':.1f',\n",
    "        'd3_race_norm': ':.1f',\n",
    "        'Median_Salary': ':$.0f',\n",
    "        '# Employees': True,\n",
    "        '%Female': True,\n",
    "        '%Black': True,\n",
    "        '%Hispanic': True,\n",
    "        '%Asian': True,\n",
    "        '%SOR': True},\n",
    "        labels={'d3_gender_norm': 'Gender', 'd3_race_norm': 'Race/Ethnicity',\n",
    "                'Median_Salary': 'Median Salary',\n",
    "                'd3_gender_race_norm_high': ''})\n",
    "    fig.update_traces(textposition='top center')\n",
    "    fig.add_hline(y=50, line_dash=\"dash\", line_color='grey')\n",
    "    fig.add_vline(x=50, line_dash=\"dash\", line_color='grey')\n",
    "    fig.add_annotation(xref=\"x domain\", yref=\"y domain\", x=0.005,\n",
    "                       y=-0.0, text=\"Closest\", showarrow=False)\n",
    "    fig.add_annotation(xref=\"x domain\", yref=\"y domain\", x=0.98,\n",
    "                       y=-0.0, text=\"Farthest\", showarrow=False)\n",
    "    fig.add_annotation(xref=\"x domain\", yref=\"y domain\", x=0.005,\n",
    "                       y=0.98, text=\"Farthest\", showarrow=False)\n",
    "    fig.add_annotation(xref=\"x domain\", yref=\"y domain\",\n",
    "                       x=0.99, y=0.9, text=\"NYC Population: <br> Female = 52%<br>  Black = 22%<br>  Hispanic = 29%<br> Asian = 14%<br>  SOR = 3%\", showarrow=False)\n",
    "    # fig.update_layout(showlegend=False)\n",
    "    newnames = set()\n",
    "    fig.for_each_trace(\n",
    "        lambda trace:\n",
    "        trace.update(showlegend=False)\n",
    "        if (dat[dat['d3_gender_race_norm_high'] == False].bool) else newnames.add(trace.name))\n",
    "    # newnames = {'True':'Agencies Farthest Away <br><sup> (Score >= 80)</sup>'}\n",
    "    # fig.for_each_trace(lambda t: t.update(name = newnames[t.name]))\n",
    "    fig.update_layout({\"title\":\n",
    "                       {\"text\": \" Agency Demographics Compared to NYC's Population<br> <sup>An agency with a lower score (0) is closer to, while a higher score (100) is farther away from NYC's Gender & Racial Breakdown</sup>\",\n",
    "                        \"font\": {\"size\": 20}}},\n",
    "                      legend=dict(yanchor=\"top\", xanchor=\"left\", x=0.942))\n",
    "    fig.write_html(\"../figures/updated_agency_diversity_distance2019.html\")\n",
    "    return\n"
   ]
  },
  {
   "cell_type": "code",
   "execution_count": 10,
   "metadata": {},
   "outputs": [],
   "source": [
    "# --- ** TO DO: draw figs for 2019, 2020 ** ---\n",
    "draw_fig(dat_19)"
   ]
  }
 ],
 "metadata": {
  "kernelspec": {
   "display_name": "Python 3",
   "language": "python",
   "name": "python3"
  },
  "language_info": {
   "codemirror_mode": {
    "name": "ipython",
    "version": 3
   },
   "file_extension": ".py",
   "mimetype": "text/x-python",
   "name": "python",
   "nbconvert_exporter": "python",
   "pygments_lexer": "ipython3",
   "version": "3.11.2"
  },
  "orig_nbformat": 4
 },
 "nbformat": 4,
 "nbformat_minor": 2
}
