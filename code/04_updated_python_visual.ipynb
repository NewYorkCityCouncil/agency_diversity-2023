{
 "cells": [
  {
   "cell_type": "code",
   "execution_count": 1,
   "metadata": {},
   "outputs": [],
   "source": [
    "# installing packages\n",
    "import numpy as np\n",
    "import pandas as pd\n",
    "import plotly\n",
    "import plotly.express as px\n",
    "import plotly.graph_objects as go"
   ]
  },
  {
   "cell_type": "code",
   "execution_count": 6,
   "metadata": {},
   "outputs": [],
   "source": [
    "# ----- reading in 2018, 2019, 2020 data from DCAS worker profile\n",
    "dat = pd.read_csv('../data/input/agency_diversity_2018.csv')\n",
    "dat_19 = pd.read_csv('../data/input/agency_diversity_2019.csv')\n",
    "dat_20 = pd.read_csv('../data/input/agency_diversity_2020.csv')\n",
    "\n",
    "# ----- from ACS 2018 1-year\n",
    "# note for self: labor_force not filtered\n",
    "dat_city = [52,48,32,22,29,14,3] # f, m, white, black, hisp, asian, sor\n",
    "# # using ACS 2019 for BOTH 2019 & 2020 \n",
    "# # 2020 not fully released due to pandemic\n",
    "# dat_city_19 = [52,48,32,22,29,14,3]\n",
    "# dat_city_20 = [52,48,32,22,29,14,3]\n",
    "\n",
    "# --- ** TO DO: add ACS data for 2019, 2020 ** ---\n",
    "# dat_city_19=[]\n",
    "# dat_city_20=[]\n",
    "\n",
    "columns=dat.columns"
   ]
  },
  {
   "cell_type": "code",
   "execution_count": 30,
   "metadata": {},
   "outputs": [
    {
     "name": "stdout",
     "output_type": "stream",
     "text": [
      "       Agency  # Employees  %Female  %Male  %White  %Black  %Hispanic  %Asian  \\\n",
      "0        DCAS         2386       38     62      29      35         24      10   \n",
      "1       DOITT         1528       39     61      37      27         14      19   \n",
      "2   MAYORALTY         1230       58     42      44      20         16      16   \n",
      "3         BOE          765       48     52      31      30         15       4   \n",
      "4      NYCERS          453       61     39      31      36          9      22   \n",
      "..        ...          ...      ...    ...     ...     ...        ...     ...   \n",
      "67       FDNY        17526       11     89      66      13         17       4   \n",
      "68        DOC        12680       42     58      14      57         22       5   \n",
      "69        DOP         1053       69     31      14      64         16       3   \n",
      "70        DOI          376       54     46      42      25         15      13   \n",
      "71      NYCEM          194       48     52      57      14         12       9   \n",
      "\n",
      "    %SOR  check gender  ...    d3_race  d4_gender   d4_race  d3_gender_norm  \\\n",
      "0      3           100  ...  14.798649   0.141414  0.269128       32.558140   \n",
      "1      4           100  ...  17.349352   0.131062  0.408857       30.232558   \n",
      "2      5           100  ...  18.027756   0.060606  0.405535       13.953488   \n",
      "3     20           100  ...  25.495098   0.040000  0.891293        9.302326   \n",
      "4      2           100  ...  25.729361   0.091547  0.602895       20.930233   \n",
      "..   ...           ...  ...        ...        ...       ...             ...   \n",
      "67     1           100  ...  38.535698   0.475032  0.960253       95.348837   \n",
      "68     2           100  ...  40.987803   0.100361  0.822641       23.255814   \n",
      "69     2           100  ...  48.774994   0.177843  1.007812       39.534884   \n",
      "70     5           100  ...  17.606817   0.020072  0.402092        4.651163   \n",
      "71     8           100  ...  32.062439   0.040000  0.794846        9.302326   \n",
      "\n",
      "    d3_race_norm  d3_norm_high  d3_gender_norm_high  d3_race_norm_high  \\\n",
      "0      16.773531         False                False              False   \n",
      "1      22.360975         False                False              False   \n",
      "2      23.847056         False                False              False   \n",
      "3      40.204647         False                False              False   \n",
      "4      40.717812         False                False              False   \n",
      "..           ...           ...                  ...                ...   \n",
      "67     68.770746          True                 True              False   \n",
      "68     74.142207         False                False              False   \n",
      "69     91.200445         False                False               True   \n",
      "70     22.924966         False                False              False   \n",
      "71     54.590743         False                False              False   \n",
      "\n",
      "    d3_gender_race_norm_high  Median_Salary  \n",
      "0                      False          60552  \n",
      "1                      False          87731  \n",
      "2                      False          78000  \n",
      "3                      False          45461  \n",
      "4                      False          55011  \n",
      "..                       ...            ...  \n",
      "67                      True          85292  \n",
      "68                     False          78090  \n",
      "69                      True          61210  \n",
      "70                     False          67906  \n",
      "71                     False          76000  \n",
      "\n",
      "[72 rows x 31 columns]\n"
     ]
    }
   ],
   "source": [
    "# print(columns)\n",
    "# print(dat_20.columns)\n",
    "print(dat)"
   ]
  },
  {
   "cell_type": "code",
   "execution_count": 7,
   "metadata": {},
   "outputs": [],
   "source": [
    "# ----- calculations\n",
    "def calculate(dat):\n",
    "    dat['d1']=np.abs(dat[columns[2]]-dat_city[0])+np.abs(dat[columns[3]]-dat_city[1])+np.abs(dat[columns[4]]-dat_city[2])+np.abs(dat[columns[5]]-dat_city[3])+np.abs(dat[columns[6]]-dat_city[4])+np.abs(dat[columns[7]]-dat_city[5])+np.abs(dat[columns[8]]-dat_city[6])\n",
    "    dat['d2']=np.abs(dat[columns[2]]-dat_city[0])/dat_city[0]+np.abs(dat[columns[3]]-dat_city[1])/dat_city[1]+np.abs(dat[columns[4]]-dat_city[2])/dat_city[2]+np.abs(dat[columns[5]]-dat_city[3])/dat_city[3]+np.abs(dat[columns[6]]-dat_city[4])/dat_city[4]+np.abs(dat[columns[7]]-dat_city[5])/dat_city[5]+np.abs(dat[columns[8]]-dat_city[6])/dat_city[6]\n",
    "    dat['d4']=np.abs(dat[columns[2]]-dat_city[0])/(dat[columns[2]]+dat_city[0])/2+np.abs(dat[columns[3]]-dat_city[1])/(dat[columns[3]]+dat_city[1])/2+np.abs(dat[columns[4]]-dat_city[2])/(dat[columns[4]]+dat_city[2])/2+np.abs(dat[columns[5]]-dat_city[3])/(dat[columns[5]]+dat_city[3])/2+np.abs(dat[columns[6]]-dat_city[4])/(dat[columns[6]]+dat_city[4])/2+np.abs(dat[columns[7]]-dat_city[5])/(dat[columns[7]]+dat_city[5])/2+np.abs(dat[columns[8]]-dat_city[6])/(dat[columns[8]]+dat_city[6])/2\n",
    "    dat['d3']=np.sqrt((dat[columns[2]]-dat_city[0])**2+(dat[columns[3]]-dat_city[1])**2+(dat[columns[4]]-dat_city[2])**2+(dat[columns[5]]-dat_city[3])**2+(dat[columns[6]]-dat_city[4])**2+(dat[columns[7]]-dat_city[5])**2+(dat[columns[8]]-dat_city[6])**2)\n",
    "    dat['d5']=np.abs(dat[columns[2]]-dat_city[0])/(dat[columns[2]]+dat_city[0])/2+np.abs(dat[columns[5]]-dat_city[3])/(dat[columns[5]]+dat_city[3])/2+np.abs(dat[columns[6]]-dat_city[4])/(dat[columns[6]]+dat_city[4])/2+np.abs(dat[columns[7]]-dat_city[5])/(dat[columns[7]]+dat_city[5])/2+np.abs(dat[columns[8]]-dat_city[6])/(dat[columns[8]]+dat_city[6])/2\n",
    "    dat['d6']=np.sqrt((dat[columns[2]]-dat_city[0])**2+(dat[columns[5]]-dat_city[3])**2+(dat[columns[6]]-dat_city[4])**2+(dat[columns[7]]-dat_city[5])**2+(dat[columns[8]]-dat_city[6])**2)\n",
    "    dat['d3_norm']=(dat['d3']-dat['d3'].min())/(dat['d3'].max()-dat['d3'].min())*100.0\n",
    "    dat['d4_norm']=(dat['d4']-dat['d4'].min())/(dat['d4'].max()-dat['d4'].min())*100.0\n",
    "    dat['d6_norm']=(dat['d6']-dat['d6'].min())/(dat['d6'].max()-dat['d6'].min())*100.0\n",
    "    dat['d3_gender']=np.sqrt((dat[columns[2]]-dat_city[0])**2+(dat[columns[3]]-dat_city[1])**2)\n",
    "    dat['d3_race']=np.sqrt((dat[columns[4]]-dat_city[2])**2+(dat[columns[5]]-dat_city[3])**2+(dat[columns[6]]-dat_city[4])**2+(dat[columns[7]]-dat_city[5])**2+(dat[columns[8]]-dat_city[6])**2)\n",
    "    dat['d4_gender']=np.abs(dat[columns[2]]-dat_city[0])/(dat[columns[2]]+dat_city[0])/2+np.abs(dat[columns[3]]-dat_city[1])/(dat[columns[3]]+dat_city[1])/2\n",
    "    dat['d4_race']=np.abs(dat[columns[4]]-dat_city[2])/(dat[columns[4]]+dat_city[2])/2+np.abs(dat[columns[5]]-dat_city[3])/(dat[columns[5]]+dat_city[3])/2+np.abs(dat[columns[6]]-dat_city[4])/(dat[columns[6]]+dat_city[4])/2+np.abs(dat[columns[7]]-dat_city[5])/(dat[columns[7]]+dat_city[5])/2+np.abs(dat[columns[8]]-dat_city[6])/(dat[columns[8]]+dat_city[6])/2\n",
    "    dat['d3_gender_norm']=(dat['d3_gender']-dat['d3_gender'].min())/(dat['d3_gender'].max()-dat['d3_gender'].min())*100.0\n",
    "    dat['d3_race_norm']=(dat['d3_race']-dat['d3_race'].min())/(dat['d3_race'].max()-dat['d3_race'].min())*100.0 \n",
    "    return dat"
   ]
  },
  {
   "cell_type": "code",
   "execution_count": 8,
   "metadata": {},
   "outputs": [],
   "source": [
    "dat = calculate(dat)\n",
    "dat_19 = calculate(dat_19)\n",
    "dat_20 = calculate(dat_20)"
   ]
  },
  {
   "cell_type": "code",
   "execution_count": 9,
   "metadata": {},
   "outputs": [],
   "source": [
    "# ----- more calculations\n",
    "def calc_high(dat):\n",
    "    dat['d3_norm_high']=dat['d3_norm'] > 80\n",
    "    dat['d3_gender_norm_high']=dat['d3_gender_norm'] > 80\n",
    "    dat['d3_race_norm_high']=dat['d3_race_norm'] > 80\n",
    "    dat['d3_gender_race_norm_high']=(dat['d3_gender_norm'] > 80) | (dat['d3_race_norm'] > 80)\n",
    "    return dat"
   ]
  },
  {
   "cell_type": "code",
   "execution_count": 10,
   "metadata": {},
   "outputs": [],
   "source": [
    "dat = calc_high(dat)\n",
    "dat_19 = calc_high(dat_19)\n",
    "dat_20 = calc_high(dat_20)"
   ]
  },
  {
   "cell_type": "code",
   "execution_count": 97,
   "metadata": {},
   "outputs": [],
   "source": [
    "# ---- used to find marker points\n",
    "# print(dat_19)\n",
    "# dat_20[dat_20['d3_gender_norm']>45]"
   ]
  },
  {
   "cell_type": "code",
   "execution_count": 31,
   "metadata": {},
   "outputs": [],
   "source": [
    "# --- ** TO DO: add salary data for 2019, 2020 ** ---\n",
    "# print(dat)\n",
    "# MEDIAN SALARIES DONT MATCH ?????????\n",
    "dat = dat.assign(Median_Salary = [\"60552\", \"87731\", \"78000\", \"45461\", \"55011\", \"70543\", \"79484\", \"64378\", \"55590\", \"46000\", \"73000\", \"117420\", \"70154\", \"73903\", \"44319\", \"112516\", \"56872\", \"69901\", \"59482\", \"86392\", \"82264\", \"91792\", \"73939\", \"77000\", \"64475\", \"76191\", \"64139\", \"61349\", \"70868\", \"65850\", \"62246\", \"46698\", \"58987\", \"61800\", \"61800\", \"61824\", \"70514\", \"82278\", \"107022\", \"59963\", \"46689\", \"65073\", \"57590\", \"46737\", \"75000\", \"68000\", \"77318\", \"78877\", \"69632\", \"65568\", \"75691\", \"75000\", \"70959\", \"72000\", \"61800\", \"62698\", \"65000\", \"60276\", \"78446\", \"64460\", \"69593\", \"64796\", \"65625\", \"78000\", \"76275\", \"80829\", \"85292\", \"85292\", \"78090\", \"61210\", \"67906\", \"76000\"])\n",
    "dat_19 = dat_19.assign(Median_Salary = [\"61336\", \"91499\", \"83436\", \"38463\", \"57295\", \"72839\", \"79862\", \"64640\", \"55798\", \"49025\", \"71001\", \"123237\", \"73148\", \"74396\", \"44675\", \"117468\", \"59502\", \"71491\", \"60000\", \"96081\", \"91499\", \"93728\", \"84053\", \"64418\", \"66205\", \"77387\", \"64139\", \"64202\", \"70000\", \"55000\", \"67500\", \"56432\", \"60167\", \"47135\", \"63939\", \"63946\", \"66398\", \"69498\", \"114752\", \"60788\", \"50763\", \"62577\", \"57426\", \"51993\", \"72874\", \"70152\", \"77318\", \"80449\", \"67624\", \"67792\", \"81872\", \"76484\", \"73986\", \"72000\", \"69000\", \"67800\", \"72904\", \"93067\", \"82209\", \"69228\", \"72957\", \"65292\", \"68444\", \"78000\", \"79568\", \"79150\", \"79802\", \"85292\", \"85292\", \"56658\", \"72079\", \"81350\"])\n",
    "dat_20 = dat_20.assign(Median_Salary = [\"65062\", \"94244\", \"85000\", \"45000\", \"59014\", \"76600\", \"80982\", \"66511\", \"56072\", \"46474\", \"77488\", \"135000\", \"74842\", \"79174\", \"53712\", \"120875\", \"61093\", \"76303\", \"64062\", \"99275\", \"90812\", \"91899\", \"92482\", \"66950\", \"70450\", \"89273\", \"66024\", \"64888\", \"72100\", \"55000\", \"70324\", \"53816\", \"61521\", \"50635\", \"66400\", \"65864\", \"73829\", \"71506\", \"113300\", \"62000\", \"52433\", \"64890\", \"60327\", \"55853\", \"77362\", \"74650\", \"77318\", \"83905\", \"70094\", \"69826\", \"85646\", \"77768\", \"75591\", \"72500\", \"69000\", \"67000\", \"73722\", \"100357\", \"81000\", \"69245\", \"70000\", \"67275\", \"70497\", \"83164\", \"91563\", \"76587\", \"81266\", \"85292\", \"85292\", \"58106\", \"73886\", \"81410\"])\n",
    "index = dat.index\n",
    "# print(index)"
   ]
  },
  {
   "cell_type": "code",
   "execution_count": 83,
   "metadata": {},
   "outputs": [],
   "source": [
    "# ----- drawing the html plot\n",
    "def draw_fig(dat):\n",
    "    fig = px.scatter(dat, x=\"d3_gender_norm\", y=\"d3_race_norm\", hover_name='Agency', color='d3_gender_race_norm_high', size=dat[columns[4]], color_discrete_sequence=[\"#2F56A6\", \"#B63F26\"], hover_data={\n",
    "        'd3_gender_race_norm_high': False,\n",
    "        'd3_gender_norm': ':.1f',\n",
    "        'd3_race_norm': ':.1f',\n",
    "        'Median_Salary': ':$.0f',\n",
    "        '# Employees': True,\n",
    "        '%Female': True,\n",
    "        '%Black': True,\n",
    "        '%Hispanic': True,\n",
    "        '%Asian': True,\n",
    "        '%SOR': True},\n",
    "        labels={'d3_gender_norm': 'Gender', 'd3_race_norm': 'Race/Ethnicity',\n",
    "                'Median_Salary': 'Median Salary',\n",
    "                'd3_gender_race_norm_high': ''})\n",
    "    # ---- 2019 highlights: add LPC, remove IBO ----\n",
    "    fig.add_trace(go.Scatter(x=[44.186047],y=[84.970717], mode ='markers',\n",
    "                             marker_symbol = 'circle',\n",
    "                             marker_size = dat[columns[4]],\n",
    "                             marker_color = '#611919',\n",
    "                             hoverinfo='none'))\n",
    "    fig.add_trace(go.Scatter(x=[11.627907],y=[75.258282], mode ='markers',\n",
    "                             marker_symbol = 'circle',\n",
    "                             marker_size = dat[columns[4]],\n",
    "                             marker_color = '#193161',\n",
    "                             hoverinfo='none'))\n",
    "    # ---- 2020 highlights: add FDNYPF, remove DA-SI\n",
    "    # fig.add_trace(go.Scatter(x=[48.837209],y=[83.206688], mode ='markers',\n",
    "    #                          marker_symbol = 'circle',\n",
    "    #                          marker_size = dat[columns[4]],\n",
    "    #                          marker_color = '#611919',\n",
    "    #                          hoverinfo='none'))\n",
    "    # fig.add_trace(go.Scatter(x=[13.953488],y=[73.174973], mode ='markers',\n",
    "    #                          marker_symbol = 'circle',\n",
    "    #                          marker_size = dat[columns[4]],\n",
    "    #                          marker_color = '#193161',\n",
    "    #                          hoverinfo='none'))\n",
    "    fig.update_traces(textposition='top center')\n",
    "    fig.add_hline(y=50, line_dash=\"dash\", line_color='grey')\n",
    "    fig.add_vline(x=50, line_dash=\"dash\", line_color='grey')\n",
    "    fig.add_annotation(xref=\"x domain\", yref=\"y domain\", x=0.005,\n",
    "                       y=-0.0, text=\"Closest\", showarrow=False)\n",
    "    fig.add_annotation(xref=\"x domain\", yref=\"y domain\", x=0.98,\n",
    "                       y=-0.0, text=\"Farthest\", showarrow=False)\n",
    "    fig.add_annotation(xref=\"x domain\", yref=\"y domain\", x=0.005,\n",
    "                       y=0.98, text=\"Farthest\", showarrow=False)\n",
    "    fig.add_annotation(xref=\"x domain\", yref=\"y domain\",\n",
    "                       x=0.99, y=0.9, text=\"2019 NYC Population: <br> Female = 52%<br>  Black = 22%<br>  Hispanic = 29%<br> Asian = 14%<br>  SOR = 3%\", showarrow=False)\n",
    "    # fig.update_layout(showlegend=False)\n",
    "    newnames = set()\n",
    "    fig.for_each_trace(\n",
    "        lambda trace:\n",
    "        trace.update(showlegend=False)\n",
    "        if (dat[dat['d3_gender_race_norm_high'] == False].bool) else newnames.add(trace.name))\n",
    "    # newnames = {'True':'Agencies Farthest Away <br><sup> (Score >= 80)</sup>'}\n",
    "    # fig.for_each_trace(lambda t: t.update(name = newnames[t.name]))\n",
    "    fig.update_layout({\"title\":\n",
    "                       {\"text\": \" 2019 Agency Demographics Compared to NYC's Population<br> <sup>An agency with a lower score (0) is closer to, while a higher score (100) is farther away from NYC's Gender & Racial Breakdown</sup>\",\n",
    "                        \"font\": {\"size\": 20}}},\n",
    "                      legend=dict(yanchor=\"top\", xanchor=\"left\", x=0.942))\n",
    "    fig.write_html(\"../visuals/agency_diversity_distance_2019.html\")\n",
    "    return\n"
   ]
  },
  {
   "cell_type": "code",
   "execution_count": 85,
   "metadata": {},
   "outputs": [],
   "source": [
    "# --- ** TO DO: draw figs for 2019, 2020 ** ---\n",
    "draw_fig(dat_19)"
   ]
  }
 ],
 "metadata": {
  "kernelspec": {
   "display_name": "Python 3",
   "language": "python",
   "name": "python3"
  },
  "language_info": {
   "codemirror_mode": {
    "name": "ipython",
    "version": 3
   },
   "file_extension": ".py",
   "mimetype": "text/x-python",
   "name": "python",
   "nbconvert_exporter": "python",
   "pygments_lexer": "ipython3",
   "version": "3.11.2"
  },
  "orig_nbformat": 4
 },
 "nbformat": 4,
 "nbformat_minor": 2
}
